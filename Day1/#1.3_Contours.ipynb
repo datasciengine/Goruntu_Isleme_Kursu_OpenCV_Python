{
 "cells": [
  {
   "cell_type": "code",
   "execution_count": null,
   "id": "e7483f9e",
   "metadata": {},
   "outputs": [],
   "source": [
    "\"\"\"\n",
    "Tutor MSAHIN\n",
    "You can reach me on youtube, twitter, linkedin, medium and github with my @datasciengine username.\n",
    "\"\"\""
   ]
  },
  {
   "cell_type": "markdown",
   "id": "09f4fa3d",
   "metadata": {},
   "source": [
    "## Don't Repeat Yourself! Use functions."
   ]
  },
  {
   "cell_type": "code",
   "execution_count": 3,
   "id": "e03bb8f8",
   "metadata": {},
   "outputs": [],
   "source": [
    "import cv2 as cv\n",
    "import numpy as np\n",
    "\n",
    "def show_img(img, img_name=\"Unknown\"):\n",
    "    cv.imshow(img_name, img)\n",
    "    cv.waitKey(0)\n",
    "    cv.destroyAllWindows()"
   ]
  },
  {
   "cell_type": "code",
   "execution_count": 4,
   "id": "8c8263b1",
   "metadata": {
    "scrolled": true
   },
   "outputs": [
    {
     "name": "stdout",
     "output_type": "stream",
     "text": [
      "cv\t np\t show_img\t \n"
     ]
    }
   ],
   "source": [
    "who"
   ]
  },
  {
   "cell_type": "code",
   "execution_count": 5,
   "id": "7fb12c66",
   "metadata": {
    "collapsed": true
   },
   "outputs": [
    {
     "data": {
      "text/plain": [
       "array([[[235, 229, 234],\n",
       "        [235, 232, 234],\n",
       "        [232, 236, 231],\n",
       "        ...,\n",
       "        [233, 207, 183],\n",
       "        [233, 207, 183],\n",
       "        [232, 206, 182]],\n",
       "\n",
       "       [[230, 226, 231],\n",
       "        [231, 230, 232],\n",
       "        [233, 234, 232],\n",
       "        ...,\n",
       "        [233, 207, 183],\n",
       "        [233, 207, 183],\n",
       "        [233, 207, 183]],\n",
       "\n",
       "       [[219, 222, 226],\n",
       "        [226, 228, 229],\n",
       "        [233, 231, 231],\n",
       "        ...,\n",
       "        [233, 207, 183],\n",
       "        [233, 207, 183],\n",
       "        [233, 207, 183]],\n",
       "\n",
       "       ...,\n",
       "\n",
       "       [[188, 185, 180],\n",
       "        [188, 185, 180],\n",
       "        [188, 185, 180],\n",
       "        ...,\n",
       "        [177, 182, 181],\n",
       "        [176, 181, 180],\n",
       "        [174, 179, 178]],\n",
       "\n",
       "       [[189, 186, 181],\n",
       "        [189, 186, 181],\n",
       "        [189, 186, 181],\n",
       "        ...,\n",
       "        [177, 186, 189],\n",
       "        [176, 185, 188],\n",
       "        [174, 183, 186]],\n",
       "\n",
       "       [[189, 186, 181],\n",
       "        [189, 186, 181],\n",
       "        [189, 186, 181],\n",
       "        ...,\n",
       "        [180, 191, 195],\n",
       "        [179, 190, 194],\n",
       "        [177, 188, 192]]], dtype=uint8)"
      ]
     },
     "execution_count": 5,
     "metadata": {},
     "output_type": "execute_result"
    }
   ],
   "source": [
    "img = cv.imread('../VisualMaterials/Photos/people_2.jpg')\n",
    "img"
   ]
  },
  {
   "cell_type": "code",
   "execution_count": 6,
   "id": "4439e60b",
   "metadata": {},
   "outputs": [
    {
     "name": "stdout",
     "output_type": "stream",
     "text": [
      "cv\t img\t np\t show_img\t \n"
     ]
    }
   ],
   "source": [
    "who"
   ]
  },
  {
   "cell_type": "code",
   "execution_count": 7,
   "id": "e4000b33",
   "metadata": {},
   "outputs": [],
   "source": [
    "show_img(img=img, img_name=\"People\")"
   ]
  },
  {
   "cell_type": "markdown",
   "id": "18d32275",
   "metadata": {},
   "source": [
    "Kontur, görüntü üzerindeki bir şeklin sınırları boyunca art arda devam eden noktalar bütününe verilen ad.\n",
    "\n",
    "Konturları bulmadan önce bazı ön işleme aşamaları..."
   ]
  },
  {
   "cell_type": "markdown",
   "id": "b543702d",
   "metadata": {},
   "source": [
    "## GrayScale transformation"
   ]
  },
  {
   "cell_type": "code",
   "execution_count": 9,
   "id": "40031e75",
   "metadata": {},
   "outputs": [],
   "source": [
    "gray = cv.cvtColor(img, cv.COLOR_BGR2GRAY)\n",
    "show_img(gray, 'Gray')"
   ]
  },
  {
   "cell_type": "markdown",
   "id": "7e676eea",
   "metadata": {},
   "source": [
    "## Blurring transformation"
   ]
  },
  {
   "cell_type": "code",
   "execution_count": 17,
   "id": "31f46667",
   "metadata": {},
   "outputs": [],
   "source": [
    "blur = cv.GaussianBlur(gray, (5,5), cv.BORDER_DEFAULT)\n",
    "show_img(blur, 'Blur')"
   ]
  },
  {
   "cell_type": "markdown",
   "id": "fd32d221",
   "metadata": {},
   "source": [
    "## Canny Algorithm"
   ]
  },
  {
   "cell_type": "code",
   "execution_count": 28,
   "id": "880c7382",
   "metadata": {},
   "outputs": [],
   "source": [
    "canny = cv.Canny(image=blur,\n",
    "                 threshold1=125,\n",
    "                 threshold2=175)\n",
    "\n",
    "show_img(canny, 'canny')"
   ]
  },
  {
   "cell_type": "code",
   "execution_count": 23,
   "id": "765de606",
   "metadata": {},
   "outputs": [],
   "source": [
    "ret, thresh_img = cv.threshold(gray, 125, 255, cv.THRESH_BINARY)"
   ]
  },
  {
   "cell_type": "code",
   "execution_count": 26,
   "id": "2bf6b54b",
   "metadata": {
    "scrolled": true
   },
   "outputs": [
    {
     "data": {
      "text/plain": [
       "array([[255, 255, 255, ..., 255, 255, 255],\n",
       "       [255, 255, 255, ..., 255, 255, 255],\n",
       "       [255, 255, 255, ..., 255, 255, 255],\n",
       "       ...,\n",
       "       [255, 255, 255, ..., 255, 255, 255],\n",
       "       [255, 255, 255, ..., 255, 255, 255],\n",
       "       [255, 255, 255, ..., 255, 255, 255]], dtype=uint8)"
      ]
     },
     "execution_count": 26,
     "metadata": {},
     "output_type": "execute_result"
    }
   ],
   "source": [
    "thresh_img"
   ]
  },
  {
   "cell_type": "code",
   "execution_count": 27,
   "id": "1cc0c56e",
   "metadata": {},
   "outputs": [],
   "source": [
    "show_img(thresh_img, 'thresh_img')"
   ]
  },
  {
   "cell_type": "code",
   "execution_count": 29,
   "id": "1c7937d7",
   "metadata": {
    "scrolled": true
   },
   "outputs": [
    {
     "name": "stdout",
     "output_type": "stream",
     "text": [
      "244 contour(s) found!\n"
     ]
    }
   ],
   "source": [
    "contours, _ = cv.findContours(canny, cv.RETR_LIST, cv.CHAIN_APPROX_SIMPLE)\n",
    "print(f'{len(contours)} contour(s) found!')"
   ]
  },
  {
   "cell_type": "markdown",
   "id": "66b0e25d",
   "metadata": {},
   "source": [
    "Peki bu elde ettiğimiz konturları"
   ]
  },
  {
   "cell_type": "code",
   "execution_count": 30,
   "id": "f9c8129a",
   "metadata": {},
   "outputs": [
    {
     "data": {
      "text/plain": [
       "array([[0., 0., 0., 0., 0., 0., 0., 0., 0., 0.],\n",
       "       [0., 0., 0., 0., 0., 0., 0., 0., 0., 0.],\n",
       "       [0., 0., 0., 0., 0., 0., 0., 0., 0., 0.],\n",
       "       [0., 0., 0., 0., 0., 0., 0., 0., 0., 0.],\n",
       "       [0., 0., 0., 0., 0., 0., 0., 0., 0., 0.],\n",
       "       [0., 0., 0., 0., 0., 0., 0., 0., 0., 0.],\n",
       "       [0., 0., 0., 0., 0., 0., 0., 0., 0., 0.],\n",
       "       [0., 0., 0., 0., 0., 0., 0., 0., 0., 0.],\n",
       "       [0., 0., 0., 0., 0., 0., 0., 0., 0., 0.],\n",
       "       [0., 0., 0., 0., 0., 0., 0., 0., 0., 0.]])"
      ]
     },
     "execution_count": 30,
     "metadata": {},
     "output_type": "execute_result"
    }
   ],
   "source": [
    "np.zeros((10,10))"
   ]
  },
  {
   "cell_type": "code",
   "execution_count": 31,
   "id": "ae003c40",
   "metadata": {},
   "outputs": [
    {
     "data": {
      "text/plain": [
       "array([[[1., 1., 1.],\n",
       "        [1., 1., 1.],\n",
       "        [1., 1., 1.],\n",
       "        [1., 1., 1.],\n",
       "        [1., 1., 1.]],\n",
       "\n",
       "       [[1., 1., 1.],\n",
       "        [1., 1., 1.],\n",
       "        [1., 1., 1.],\n",
       "        [1., 1., 1.],\n",
       "        [1., 1., 1.]]])"
      ]
     },
     "execution_count": 31,
     "metadata": {},
     "output_type": "execute_result"
    }
   ],
   "source": [
    "np.ones((2,5,3))"
   ]
  },
  {
   "cell_type": "code",
   "execution_count": 32,
   "id": "57e57972",
   "metadata": {
    "collapsed": true
   },
   "outputs": [
    {
     "data": {
      "text/plain": [
       "array([[[4, 4, 4],\n",
       "        [4, 4, 4],\n",
       "        [4, 4, 4],\n",
       "        [4, 4, 4],\n",
       "        [4, 4, 4]],\n",
       "\n",
       "       [[4, 4, 4],\n",
       "        [4, 4, 4],\n",
       "        [4, 4, 4],\n",
       "        [4, 4, 4],\n",
       "        [4, 4, 4]],\n",
       "\n",
       "       [[4, 4, 4],\n",
       "        [4, 4, 4],\n",
       "        [4, 4, 4],\n",
       "        [4, 4, 4],\n",
       "        [4, 4, 4]],\n",
       "\n",
       "       [[4, 4, 4],\n",
       "        [4, 4, 4],\n",
       "        [4, 4, 4],\n",
       "        [4, 4, 4],\n",
       "        [4, 4, 4]],\n",
       "\n",
       "       [[4, 4, 4],\n",
       "        [4, 4, 4],\n",
       "        [4, 4, 4],\n",
       "        [4, 4, 4],\n",
       "        [4, 4, 4]]])"
      ]
     },
     "execution_count": 32,
     "metadata": {},
     "output_type": "execute_result"
    }
   ],
   "source": [
    "np.full((5, 5, 3), 4)"
   ]
  },
  {
   "cell_type": "code",
   "execution_count": 33,
   "id": "e7db1aa1",
   "metadata": {},
   "outputs": [
    {
     "data": {
      "text/plain": [
       "(828, 640, 3)"
      ]
     },
     "execution_count": 33,
     "metadata": {},
     "output_type": "execute_result"
    }
   ],
   "source": [
    "img.shape"
   ]
  },
  {
   "cell_type": "code",
   "execution_count": 34,
   "id": "3212a59e",
   "metadata": {},
   "outputs": [],
   "source": [
    "blank = np.zeros(img.shape, dtype='uint8')\n",
    "show_img(blank, img_name=\"Blank\")"
   ]
  },
  {
   "cell_type": "code",
   "execution_count": 35,
   "id": "7ad827b3",
   "metadata": {},
   "outputs": [],
   "source": [
    "cv.drawContours(image=blank,\n",
    "                contours=contours,\n",
    "                contourIdx=-1,\n",
    "                color=(0,0,255))\n",
    "\n",
    "show_img(blank, 'Contours Drawn')"
   ]
  }
 ],
 "metadata": {
  "kernelspec": {
   "display_name": "Python 3 (ipykernel)",
   "language": "python",
   "name": "python3"
  },
  "language_info": {
   "codemirror_mode": {
    "name": "ipython",
    "version": 3
   },
   "file_extension": ".py",
   "mimetype": "text/x-python",
   "name": "python",
   "nbconvert_exporter": "python",
   "pygments_lexer": "ipython3",
   "version": "3.8.10"
  }
 },
 "nbformat": 4,
 "nbformat_minor": 5
}
