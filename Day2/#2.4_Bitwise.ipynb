{
 "cells": [
  {
   "cell_type": "code",
   "execution_count": null,
   "id": "68d11fb6",
   "metadata": {},
   "outputs": [],
   "source": [
    "\"\"\"\n",
    "Tutor MSAHIN\n",
    "You can reach me on youtube, twitter, linkedin, medium and github with my @datasciengine username.\n",
    "\"\"\""
   ]
  },
  {
   "cell_type": "code",
   "execution_count": 1,
   "id": "65e1d940",
   "metadata": {},
   "outputs": [],
   "source": [
    "import cv2 as cv\n",
    "import numpy as np\n",
    "from utils import show_img"
   ]
  },
  {
   "cell_type": "code",
   "execution_count": 2,
   "id": "2beae749",
   "metadata": {},
   "outputs": [
    {
     "data": {
      "text/plain": [
       "array([[0, 0, 0, ..., 0, 0, 0],\n",
       "       [0, 0, 0, ..., 0, 0, 0],\n",
       "       [0, 0, 0, ..., 0, 0, 0],\n",
       "       ...,\n",
       "       [0, 0, 0, ..., 0, 0, 0],\n",
       "       [0, 0, 0, ..., 0, 0, 0],\n",
       "       [0, 0, 0, ..., 0, 0, 0]], dtype=uint8)"
      ]
     },
     "execution_count": 2,
     "metadata": {},
     "output_type": "execute_result"
    }
   ],
   "source": [
    "blank = np.zeros((400,400), dtype='uint8')\n",
    "blank"
   ]
  },
  {
   "cell_type": "code",
   "execution_count": 3,
   "id": "fca3c94b",
   "metadata": {
    "scrolled": true
   },
   "outputs": [],
   "source": [
    "rectangle = cv.rectangle(blank.copy(),\n",
    "                         (30,30),\n",
    "                         (370,370),\n",
    "                         75,\n",
    "                         -1)\n",
    "\n",
    "show_img(rectangle, 'Rectangle')"
   ]
  },
  {
   "cell_type": "code",
   "execution_count": 6,
   "id": "0f07d5d0",
   "metadata": {},
   "outputs": [],
   "source": [
    "circle = cv.circle(blank.copy(),\n",
    "                   (200,200),\n",
    "                   200, 200, -1)\n",
    "\n",
    "show_img(circle, 'Circle')"
   ]
  },
  {
   "cell_type": "markdown",
   "id": "20f67091",
   "metadata": {},
   "source": [
    "## bitwise AND\n",
    "--> intersecting regions"
   ]
  },
  {
   "cell_type": "code",
   "execution_count": 7,
   "id": "3724b42a",
   "metadata": {},
   "outputs": [],
   "source": [
    "bitwise_and = cv.bitwise_and(rectangle, circle)\n",
    "show_img(bitwise_and, 'Bitwise AND')"
   ]
  },
  {
   "cell_type": "markdown",
   "id": "08ad70ef",
   "metadata": {},
   "source": [
    "## bitwise OR\n",
    "--> non-intersecting and intersecting regions"
   ]
  },
  {
   "cell_type": "code",
   "execution_count": 8,
   "id": "537cf461",
   "metadata": {},
   "outputs": [],
   "source": [
    "bitwise_or = cv.bitwise_or(rectangle, circle)\n",
    "show_img(bitwise_or, 'Bitwise OR')"
   ]
  },
  {
   "cell_type": "markdown",
   "id": "17d29966",
   "metadata": {},
   "source": [
    "## bitwise XOR\n",
    "--> non-intersecting regions"
   ]
  },
  {
   "cell_type": "code",
   "execution_count": 11,
   "id": "4e1527ea",
   "metadata": {},
   "outputs": [],
   "source": [
    "bitwise_xor = cv.bitwise_xor(rectangle, circle)\n",
    "show_img(bitwise_xor, 'Bitwise XOR')"
   ]
  },
  {
   "cell_type": "markdown",
   "id": "90a86e39",
   "metadata": {},
   "source": [
    "## bitwise NOT"
   ]
  },
  {
   "cell_type": "code",
   "execution_count": 10,
   "id": "e6ae69fc",
   "metadata": {},
   "outputs": [],
   "source": [
    "bitwise_not = cv.bitwise_not(circle)\n",
    "show_img(bitwise_not, 'Circle NOT')"
   ]
  },
  {
   "cell_type": "markdown",
   "id": "4da7a5af",
   "metadata": {},
   "source": [
    "## bitwise NOT (bitwise XOR)\n",
    "--> non (non-intersecting regions)"
   ]
  },
  {
   "cell_type": "code",
   "execution_count": 12,
   "id": "ec755661",
   "metadata": {},
   "outputs": [],
   "source": [
    "bitwise_not = cv.bitwise_not(  cv.bitwise_xor(rectangle, circle)  )\n",
    "show_img(bitwise_not, 'Circle NOT')"
   ]
  },
  {
   "cell_type": "code",
   "execution_count": null,
   "id": "2274ee57",
   "metadata": {},
   "outputs": [],
   "source": []
  },
  {
   "cell_type": "code",
   "execution_count": null,
   "id": "123632ae",
   "metadata": {},
   "outputs": [],
   "source": []
  }
 ],
 "metadata": {
  "kernelspec": {
   "display_name": "Python 3 (ipykernel)",
   "language": "python",
   "name": "python3"
  },
  "language_info": {
   "codemirror_mode": {
    "name": "ipython",
    "version": 3
   },
   "file_extension": ".py",
   "mimetype": "text/x-python",
   "name": "python",
   "nbconvert_exporter": "python",
   "pygments_lexer": "ipython3",
   "version": "3.8.10"
  }
 },
 "nbformat": 4,
 "nbformat_minor": 5
}
