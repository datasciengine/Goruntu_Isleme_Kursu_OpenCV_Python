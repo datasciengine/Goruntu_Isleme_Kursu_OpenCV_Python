{
 "cells": [
  {
   "cell_type": "code",
   "execution_count": 1,
   "id": "0db5592c",
   "metadata": {},
   "outputs": [],
   "source": [
    "import numpy as np\n",
    "import cv2 as cv\n",
    "from utils import show_img"
   ]
  },
  {
   "cell_type": "code",
   "execution_count": 2,
   "id": "d6c06de8",
   "metadata": {
    "collapsed": true
   },
   "outputs": [
    {
     "data": {
      "text/plain": [
       "array([[[234, 233, 235],\n",
       "        [234, 233, 235],\n",
       "        [234, 233, 235],\n",
       "        ...,\n",
       "        [ 80,  88,  88],\n",
       "        [ 79,  87,  87],\n",
       "        [ 79,  87,  87]],\n",
       "\n",
       "       [[234, 233, 235],\n",
       "        [234, 233, 235],\n",
       "        [234, 233, 235],\n",
       "        ...,\n",
       "        [ 79,  87,  87],\n",
       "        [ 79,  87,  87],\n",
       "        [ 78,  86,  86]],\n",
       "\n",
       "       [[234, 233, 235],\n",
       "        [234, 233, 235],\n",
       "        [234, 233, 235],\n",
       "        ...,\n",
       "        [ 83,  91,  91],\n",
       "        [ 82,  90,  90],\n",
       "        [ 82,  90,  90]],\n",
       "\n",
       "       ...,\n",
       "\n",
       "       [[ 55,  44,  52],\n",
       "        [ 54,  43,  51],\n",
       "        [ 53,  42,  50],\n",
       "        ...,\n",
       "        [ 56,  47,  50],\n",
       "        [ 56,  47,  50],\n",
       "        [ 56,  47,  50]],\n",
       "\n",
       "       [[ 55,  44,  52],\n",
       "        [ 54,  43,  51],\n",
       "        [ 53,  42,  50],\n",
       "        ...,\n",
       "        [ 56,  47,  50],\n",
       "        [ 56,  47,  50],\n",
       "        [ 56,  47,  50]],\n",
       "\n",
       "       [[ 55,  44,  52],\n",
       "        [ 54,  43,  51],\n",
       "        [ 53,  42,  50],\n",
       "        ...,\n",
       "        [ 56,  47,  50],\n",
       "        [ 56,  47,  50],\n",
       "        [ 56,  47,  50]]], dtype=uint8)"
      ]
     },
     "execution_count": 2,
     "metadata": {},
     "output_type": "execute_result"
    }
   ],
   "source": [
    "haar_cascade = cv.CascadeClassifier('haarcascade_frontalface_default.xml')\n",
    "\n",
    "people = ['Ben Afflek', 'Elton John', 'Jerry Seinfield', 'Madonna', 'Mindy Kaling']\n",
    "# features = np.load('features.npy', allow_pickle=True)\n",
    "# labels = np.load('labels.npy')\n",
    "\n",
    "face_recognizer = cv.face.LBPHFaceRecognizer_create()\n",
    "face_recognizer.read('face_trained.yml')\n",
    "\n",
    "img = cv.imread(r'../VisualMaterials/Faces/val/elton_john/1.jpg')\n",
    "img"
   ]
  },
  {
   "cell_type": "code",
   "execution_count": 3,
   "id": "725ba011",
   "metadata": {
    "scrolled": false
   },
   "outputs": [
    {
     "data": {
      "text/plain": [
       "(300, 300, 3)"
      ]
     },
     "execution_count": 3,
     "metadata": {},
     "output_type": "execute_result"
    }
   ],
   "source": [
    "img.shape"
   ]
  },
  {
   "cell_type": "code",
   "execution_count": 4,
   "id": "0d63e24a",
   "metadata": {},
   "outputs": [],
   "source": [
    "gray = cv.cvtColor(img, cv.COLOR_BGR2GRAY)\n",
    "show_img(gray, \"Person\")"
   ]
  },
  {
   "cell_type": "code",
   "execution_count": 5,
   "id": "533fc19f",
   "metadata": {
    "scrolled": false
   },
   "outputs": [
    {
     "data": {
      "text/plain": [
       "array([[ 54,  80, 175, 175]])"
      ]
     },
     "execution_count": 5,
     "metadata": {},
     "output_type": "execute_result"
    }
   ],
   "source": [
    "# Detect the face in the image\n",
    "faces_rect = haar_cascade.detectMultiScale(gray, 1.1, 4)\n",
    "faces_rect"
   ]
  },
  {
   "cell_type": "code",
   "execution_count": 6,
   "id": "82c05a01",
   "metadata": {},
   "outputs": [
    {
     "name": "stdout",
     "output_type": "stream",
     "text": [
      "Label = Elton John with a confidence of 67.01%\n"
     ]
    }
   ],
   "source": [
    "for (x,y,w,h) in faces_rect:\n",
    "    faces_roi = gray[y:y+h,x:x+w]\n",
    "    # roi : region of interest, ilgili alan.\n",
    "\n",
    "    label, confidence = face_recognizer.predict(faces_roi)\n",
    "    print(f'Label = {people[label]} with a confidence of {round(confidence,2)}%')\n",
    "\n",
    "    cv.putText(img, str(people[label]), (x, y-15), cv.FONT_HERSHEY_COMPLEX, 1.0, (0,255,0), thickness=2)\n",
    "    cv.rectangle(img, (x,y), (x+w,y+h), (0,255,0), thickness=2)\n",
    "\n",
    "show_img(img, \"Detected Face\")"
   ]
  },
  {
   "cell_type": "code",
   "execution_count": null,
   "id": "88f5351b",
   "metadata": {},
   "outputs": [],
   "source": []
  }
 ],
 "metadata": {
  "kernelspec": {
   "display_name": "Python 3 (ipykernel)",
   "language": "python",
   "name": "python3"
  },
  "language_info": {
   "codemirror_mode": {
    "name": "ipython",
    "version": 3
   },
   "file_extension": ".py",
   "mimetype": "text/x-python",
   "name": "python",
   "nbconvert_exporter": "python",
   "pygments_lexer": "ipython3",
   "version": "3.8.10"
  }
 },
 "nbformat": 4,
 "nbformat_minor": 5
}
