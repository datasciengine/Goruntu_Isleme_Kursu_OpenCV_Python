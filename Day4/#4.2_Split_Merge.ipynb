{
 "cells": [
  {
   "cell_type": "code",
   "execution_count": 1,
   "id": "add3b48a",
   "metadata": {},
   "outputs": [],
   "source": [
    "import cv2 as cv\n",
    "import numpy as np\n",
    "from utils import show_img"
   ]
  },
  {
   "cell_type": "code",
   "execution_count": 2,
   "id": "699989cc",
   "metadata": {},
   "outputs": [],
   "source": [
    "img = cv.imread('../VisualMaterials/Photos/park.jpg')\n",
    "show_img(img)"
   ]
  },
  {
   "cell_type": "code",
   "execution_count": 3,
   "id": "533790c4",
   "metadata": {
    "collapsed": true
   },
   "outputs": [
    {
     "data": {
      "text/plain": [
       "array([[0, 0, 0, ..., 0, 0, 0],\n",
       "       [0, 0, 0, ..., 0, 0, 0],\n",
       "       [0, 0, 0, ..., 0, 0, 0],\n",
       "       ...,\n",
       "       [0, 0, 0, ..., 0, 0, 0],\n",
       "       [0, 0, 0, ..., 0, 0, 0],\n",
       "       [0, 0, 0, ..., 0, 0, 0]], dtype=uint8)"
      ]
     },
     "execution_count": 3,
     "metadata": {},
     "output_type": "execute_result"
    }
   ],
   "source": [
    "blank = np.zeros(img.shape[:2], dtype='uint8')\n",
    "b, g, r = cv.split(img)\n",
    "blank"
   ]
  },
  {
   "cell_type": "code",
   "execution_count": 4,
   "id": "f0d7a504",
   "metadata": {},
   "outputs": [
    {
     "data": {
      "text/plain": [
       "array([[210, 210, 210, ..., 212, 212, 212],\n",
       "       [210, 210, 210, ..., 212, 212, 212],\n",
       "       [210, 210, 210, ..., 211, 211, 211],\n",
       "       ...,\n",
       "       [ 23,  30,  21, ...,  75,  67,  55],\n",
       "       [ 25,  23,   5, ...,  62,  48,  38],\n",
       "       [ 26,  24,  12, ...,  49,  33,  25]], dtype=uint8)"
      ]
     },
     "execution_count": 4,
     "metadata": {},
     "output_type": "execute_result"
    }
   ],
   "source": [
    "b"
   ]
  },
  {
   "cell_type": "code",
   "execution_count": 5,
   "id": "c1edb499",
   "metadata": {},
   "outputs": [],
   "source": [
    "blue = cv.merge([b, blank, blank])\n",
    "green = cv.merge([blank, g, blank])\n",
    "red = cv.merge([blank, blank, r])"
   ]
  },
  {
   "cell_type": "code",
   "execution_count": 6,
   "id": "7e674411",
   "metadata": {},
   "outputs": [
    {
     "data": {
      "text/plain": [
       "(427, 640)"
      ]
     },
     "execution_count": 6,
     "metadata": {},
     "output_type": "execute_result"
    }
   ],
   "source": [
    "blank.shape"
   ]
  },
  {
   "cell_type": "code",
   "execution_count": 7,
   "id": "7d7b1332",
   "metadata": {},
   "outputs": [
    {
     "data": {
      "text/plain": [
       "(427, 640)"
      ]
     },
     "execution_count": 7,
     "metadata": {},
     "output_type": "execute_result"
    }
   ],
   "source": [
    "b.shape"
   ]
  },
  {
   "cell_type": "markdown",
   "id": "4e4d1ccc",
   "metadata": {},
   "source": [
    "## Sadece blue channel"
   ]
  },
  {
   "cell_type": "code",
   "execution_count": 8,
   "id": "7d05f537",
   "metadata": {},
   "outputs": [],
   "source": [
    "show_img(blue, \"Blue\")"
   ]
  },
  {
   "cell_type": "markdown",
   "id": "bc6b12c7",
   "metadata": {},
   "source": [
    "## Sadece red channel"
   ]
  },
  {
   "cell_type": "code",
   "execution_count": 9,
   "id": "5287b791",
   "metadata": {},
   "outputs": [],
   "source": [
    "show_img(red, \"Red\")"
   ]
  },
  {
   "cell_type": "markdown",
   "id": "2b1e30fe",
   "metadata": {},
   "source": [
    "## Sadece green channel"
   ]
  },
  {
   "cell_type": "code",
   "execution_count": 10,
   "id": "322314d4",
   "metadata": {},
   "outputs": [],
   "source": [
    "show_img(green, \"Green\")"
   ]
  },
  {
   "cell_type": "code",
   "execution_count": 11,
   "id": "04cbe89d",
   "metadata": {},
   "outputs": [],
   "source": [
    "merged = cv.merge([b,g,r])\n",
    "show_img(merged)"
   ]
  },
  {
   "cell_type": "code",
   "execution_count": null,
   "id": "556e522b",
   "metadata": {},
   "outputs": [],
   "source": []
  }
 ],
 "metadata": {
  "kernelspec": {
   "display_name": "Python 3 (ipykernel)",
   "language": "python",
   "name": "python3"
  },
  "language_info": {
   "codemirror_mode": {
    "name": "ipython",
    "version": 3
   },
   "file_extension": ".py",
   "mimetype": "text/x-python",
   "name": "python",
   "nbconvert_exporter": "python",
   "pygments_lexer": "ipython3",
   "version": "3.8.10"
  }
 },
 "nbformat": 4,
 "nbformat_minor": 5
}
