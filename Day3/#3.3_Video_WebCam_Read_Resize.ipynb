{
 "cells": [
  {
   "cell_type": "code",
   "execution_count": 1,
   "id": "0d202ea3",
   "metadata": {},
   "outputs": [],
   "source": [
    "import cv2 as cv\n",
    "from utils import show_img"
   ]
  },
  {
   "cell_type": "code",
   "execution_count": 2,
   "id": "4eab47df",
   "metadata": {
    "scrolled": true
   },
   "outputs": [
    {
     "data": {
      "text/plain": [
       "< cv2.VideoCapture 0000027C8CA71550>"
      ]
     },
     "execution_count": 2,
     "metadata": {},
     "output_type": "execute_result"
    }
   ],
   "source": [
    "# Reading Videos\n",
    "capture = cv.VideoCapture('../VisualMaterials/Videos/dog.mp4')\n",
    "capture"
   ]
  },
  {
   "cell_type": "code",
   "execution_count": 3,
   "id": "94a70551",
   "metadata": {
    "collapsed": true
   },
   "outputs": [
    {
     "data": {
      "text/plain": [
       "(True,\n",
       " array([[[124, 116, 118],\n",
       "         [217, 209, 211],\n",
       "         [201, 193, 195],\n",
       "         ...,\n",
       "         [153, 152, 162],\n",
       "         [167, 166, 176],\n",
       "         [ 43,  42,  52]],\n",
       " \n",
       "        [[124, 116, 118],\n",
       "         [217, 209, 211],\n",
       "         [201, 193, 195],\n",
       "         ...,\n",
       "         [153, 152, 162],\n",
       "         [167, 166, 176],\n",
       "         [ 43,  42,  52]],\n",
       " \n",
       "        [[124, 116, 118],\n",
       "         [217, 209, 211],\n",
       "         [201, 193, 195],\n",
       "         ...,\n",
       "         [153, 152, 162],\n",
       "         [167, 166, 176],\n",
       "         [ 43,  42,  52]],\n",
       " \n",
       "        ...,\n",
       " \n",
       "        [[ 95,  98, 111],\n",
       "         [175, 178, 191],\n",
       "         [155, 159, 175],\n",
       "         ...,\n",
       "         [ 22,  32,  70],\n",
       "         [ 31,  40,  73],\n",
       "         [  0,   3,  36]],\n",
       " \n",
       "        [[ 96,  99, 112],\n",
       "         [175, 178, 191],\n",
       "         [154, 158, 174],\n",
       "         ...,\n",
       "         [ 20,  30,  68],\n",
       "         [ 28,  37,  70],\n",
       "         [  0,   3,  36]],\n",
       " \n",
       "        [[ 96,  99, 112],\n",
       "         [175, 178, 191],\n",
       "         [154, 158, 174],\n",
       "         ...,\n",
       "         [ 23,  33,  71],\n",
       "         [ 28,  37,  70],\n",
       "         [  0,   2,  35]]], dtype=uint8))"
      ]
     },
     "execution_count": 3,
     "metadata": {},
     "output_type": "execute_result"
    }
   ],
   "source": [
    "capture.read()"
   ]
  },
  {
   "cell_type": "code",
   "execution_count": 4,
   "id": "8cf4b66d",
   "metadata": {},
   "outputs": [
    {
     "data": {
      "text/plain": [
       "True"
      ]
     },
     "execution_count": 4,
     "metadata": {},
     "output_type": "execute_result"
    }
   ],
   "source": [
    "is_there, frame = capture.read()\n",
    "is_there"
   ]
  },
  {
   "cell_type": "code",
   "execution_count": 6,
   "id": "a7496d4c",
   "metadata": {},
   "outputs": [
    {
     "data": {
      "text/plain": [
       "(720, 1280, 3)"
      ]
     },
     "execution_count": 6,
     "metadata": {},
     "output_type": "execute_result"
    }
   ],
   "source": [
    "frame.shape"
   ]
  },
  {
   "cell_type": "code",
   "execution_count": 8,
   "id": "4b3e0d49",
   "metadata": {},
   "outputs": [],
   "source": [
    "show_img(frame, \"Frame\")"
   ]
  },
  {
   "cell_type": "code",
   "execution_count": 9,
   "id": "dbdc6fee",
   "metadata": {},
   "outputs": [
    {
     "name": "stdout",
     "output_type": "stream",
     "text": [
      "no more frame!\n"
     ]
    }
   ],
   "source": [
    "counter = 0\n",
    "\n",
    "while True:\n",
    "    is_there, frame = capture.read()\n",
    "    if is_there:\n",
    "        counter+=1\n",
    "    else:\n",
    "        print(\"no more frame!\")\n",
    "        break"
   ]
  },
  {
   "cell_type": "code",
   "execution_count": 10,
   "id": "2d81b483",
   "metadata": {},
   "outputs": [
    {
     "data": {
      "text/plain": [
       "334"
      ]
     },
     "execution_count": 10,
     "metadata": {},
     "output_type": "execute_result"
    }
   ],
   "source": [
    "counter"
   ]
  },
  {
   "cell_type": "code",
   "execution_count": 11,
   "id": "fd288039",
   "metadata": {},
   "outputs": [
    {
     "data": {
      "text/plain": [
       "30.363636363636363"
      ]
     },
     "execution_count": 11,
     "metadata": {},
     "output_type": "execute_result"
    }
   ],
   "source": [
    "334/11"
   ]
  },
  {
   "cell_type": "code",
   "execution_count": 12,
   "id": "0a53f5d7",
   "metadata": {},
   "outputs": [
    {
     "data": {
      "text/plain": [
       "False"
      ]
     },
     "execution_count": 12,
     "metadata": {},
     "output_type": "execute_result"
    }
   ],
   "source": [
    "is_there"
   ]
  },
  {
   "cell_type": "code",
   "execution_count": 17,
   "id": "21f95b97",
   "metadata": {},
   "outputs": [
    {
     "data": {
      "text/plain": [
       "NoneType"
      ]
     },
     "execution_count": 17,
     "metadata": {},
     "output_type": "execute_result"
    }
   ],
   "source": [
    "type(frame)"
   ]
  },
  {
   "cell_type": "code",
   "execution_count": 16,
   "id": "db7836ef",
   "metadata": {},
   "outputs": [
    {
     "name": "stdout",
     "output_type": "stream",
     "text": [
      "none\n"
     ]
    }
   ],
   "source": [
    "if frame is None:\n",
    "    print(\"none\")"
   ]
  },
  {
   "cell_type": "code",
   "execution_count": null,
   "id": "6489c866",
   "metadata": {},
   "outputs": [],
   "source": []
  },
  {
   "cell_type": "code",
   "execution_count": 19,
   "id": "56474e36",
   "metadata": {
    "collapsed": true
   },
   "outputs": [
    {
     "name": "stdout",
     "output_type": "stream",
     "text": [
      "devam ediyor\n",
      "devam ediyor\n",
      "devam ediyor\n",
      "devam ediyor\n",
      "devam ediyor\n",
      "devam ediyor\n",
      "devam ediyor\n",
      "devam ediyor\n",
      "devam ediyor\n",
      "devam ediyor\n",
      "devam ediyor\n",
      "devam ediyor\n",
      "devam ediyor\n",
      "devam ediyor\n",
      "devam ediyor\n",
      "devam ediyor\n",
      "devam ediyor\n",
      "devam ediyor\n",
      "devam ediyor\n",
      "devam ediyor\n",
      "devam ediyor\n",
      "devam ediyor\n",
      "devam ediyor\n",
      "devam ediyor\n",
      "devam ediyor\n",
      "devam ediyor\n",
      "devam ediyor\n",
      "devam ediyor\n",
      "devam ediyor\n",
      "devam ediyor\n",
      "devam ediyor\n",
      "devam ediyor\n",
      "devam ediyor\n",
      "devam ediyor\n",
      "devam ediyor\n",
      "devam ediyor\n",
      "devam ediyor\n",
      "devam ediyor\n",
      "devam ediyor\n",
      "devam ediyor\n",
      "devam ediyor\n",
      "devam ediyor\n",
      "devam ediyor\n",
      "devam ediyor\n",
      "devam ediyor\n",
      "devam ediyor\n",
      "devam ediyor\n",
      "devam ediyor\n",
      "devam ediyor\n",
      "devam ediyor\n",
      "devam ediyor\n",
      "devam ediyor\n",
      "devam ediyor\n",
      "devam ediyor\n",
      "devam ediyor\n",
      "devam ediyor\n",
      "devam ediyor\n",
      "devam ediyor\n",
      "devam ediyor\n",
      "devam ediyor\n",
      "devam ediyor\n",
      "devam ediyor\n",
      "devam ediyor\n",
      "devam ediyor\n",
      "devam ediyor\n",
      "devam ediyor\n",
      "devam ediyor\n",
      "devam ediyor\n",
      "devam ediyor\n",
      "devam ediyor\n",
      "devam ediyor\n",
      "devam ediyor\n",
      "devam ediyor\n",
      "devam ediyor\n",
      "devam ediyor\n",
      "devam ediyor\n",
      "devam ediyor\n",
      "devam ediyor\n",
      "devam ediyor\n",
      "devam ediyor\n",
      "devam ediyor\n",
      "devam ediyor\n",
      "devam ediyor\n",
      "devam ediyor\n",
      "devam ediyor\n",
      "devam ediyor\n",
      "devam ediyor\n",
      "devam ediyor\n",
      "devam ediyor\n",
      "devam ediyor\n",
      "devam ediyor\n",
      "devam ediyor\n",
      "devam ediyor\n",
      "devam ediyor\n",
      "devam ediyor\n",
      "devam ediyor\n",
      "devam ediyor\n",
      "devam ediyor\n",
      "devam ediyor\n",
      "devam ediyor\n",
      "devam ediyor\n",
      "devam ediyor\n",
      "devam ediyor\n",
      "devam ediyor\n",
      "devam ediyor\n",
      "devam ediyor\n",
      "devam ediyor\n",
      "devam ediyor\n",
      "devam ediyor\n",
      "devam ediyor\n",
      "devam ediyor\n",
      "devam ediyor\n",
      "devam ediyor\n",
      "devam ediyor\n",
      "devam ediyor\n",
      "devam ediyor\n",
      "devam ediyor\n",
      "devam ediyor\n",
      "devam ediyor\n",
      "devam ediyor\n",
      "devam ediyor\n",
      "devam ediyor\n",
      "devam ediyor\n",
      "devam ediyor\n",
      "devam ediyor\n",
      "devam ediyor\n",
      "devam ediyor\n",
      "devam ediyor\n",
      "devam ediyor\n",
      "devam ediyor\n",
      "devam ediyor\n",
      "devam ediyor\n",
      "devam ediyor\n",
      "devam ediyor\n",
      "devam ediyor\n",
      "devam ediyor\n",
      "devam ediyor\n",
      "devam ediyor\n",
      "devam ediyor\n",
      "devam ediyor\n",
      "devam ediyor\n",
      "devam ediyor\n",
      "devam ediyor\n",
      "devam ediyor\n",
      "devam ediyor\n",
      "devam ediyor\n",
      "devam ediyor\n",
      "devam ediyor\n",
      "devam ediyor\n",
      "devam ediyor\n",
      "devam ediyor\n",
      "devam ediyor\n",
      "devam ediyor\n",
      "devam ediyor\n",
      "devam ediyor\n",
      "devam ediyor\n",
      "devam ediyor\n",
      "devam ediyor\n",
      "devam ediyor\n",
      "devam ediyor\n",
      "devam ediyor\n",
      "devam ediyor\n",
      "devam ediyor\n",
      "devam ediyor\n",
      "devam ediyor\n",
      "devam ediyor\n",
      "devam ediyor\n",
      "devam ediyor\n",
      "devam ediyor\n",
      "devam ediyor\n",
      "devam ediyor\n",
      "devam ediyor\n",
      "devam ediyor\n",
      "devam ediyor\n",
      "devam ediyor\n",
      "devam ediyor\n",
      "devam ediyor\n",
      "devam ediyor\n",
      "devam ediyor\n",
      "devam ediyor\n",
      "devam ediyor\n",
      "devam ediyor\n",
      "devam ediyor\n",
      "devam ediyor\n",
      "devam ediyor\n",
      "devam ediyor\n",
      "devam ediyor\n",
      "devam ediyor\n",
      "devam ediyor\n",
      "devam ediyor\n",
      "devam ediyor\n",
      "devam ediyor\n",
      "devam ediyor\n",
      "devam ediyor\n",
      "devam ediyor\n",
      "devam ediyor\n",
      "devam ediyor\n",
      "devam ediyor\n",
      "devam ediyor\n",
      "devam ediyor\n",
      "devam ediyor\n",
      "devam ediyor\n",
      "devam ediyor\n",
      "devam ediyor\n",
      "devam ediyor\n",
      "devam ediyor\n",
      "devam ediyor\n",
      "devam ediyor\n",
      "devam ediyor\n",
      "devam ediyor\n",
      "devam ediyor\n",
      "devam ediyor\n",
      "devam ediyor\n",
      "devam ediyor\n",
      "devam ediyor\n",
      "devam ediyor\n",
      "devam ediyor\n",
      "devam ediyor\n",
      "devam ediyor\n",
      "devam ediyor\n",
      "devam ediyor\n",
      "devam ediyor\n",
      "devam ediyor\n",
      "devam ediyor\n",
      "devam ediyor\n",
      "devam ediyor\n",
      "devam ediyor\n",
      "devam ediyor\n",
      "devam ediyor\n",
      "devam ediyor\n",
      "devam ediyor\n",
      "devam ediyor\n",
      "devam ediyor\n",
      "devam ediyor\n",
      "devam ediyor\n",
      "devam ediyor\n",
      "devam ediyor\n",
      "devam ediyor\n",
      "devam ediyor\n",
      "devam ediyor\n",
      "devam ediyor\n",
      "devam ediyor\n",
      "devam ediyor\n",
      "devam ediyor\n",
      "devam ediyor\n",
      "devam ediyor\n",
      "devam ediyor\n",
      "devam ediyor\n",
      "devam ediyor\n",
      "devam ediyor\n",
      "devam ediyor\n",
      "devam ediyor\n",
      "devam ediyor\n",
      "devam ediyor\n",
      "devam ediyor\n",
      "devam ediyor\n",
      "devam ediyor\n",
      "devam ediyor\n",
      "devam ediyor\n",
      "devam ediyor\n",
      "devam ediyor\n",
      "devam ediyor\n",
      "devam ediyor\n",
      "devam ediyor\n",
      "devam ediyor\n",
      "devam ediyor\n",
      "devam ediyor\n",
      "devam ediyor\n"
     ]
    }
   ],
   "source": [
    "capture = cv.VideoCapture('../VisualMaterials/Videos/dog.mp4')\n",
    "\n",
    "while True:\n",
    "    is_there, frame = capture.read()\n",
    "    print(\"devam ediyor\")\n",
    "    if is_there:\n",
    "        cv.imshow('Video', frame)\n",
    "\n",
    "        if cv.waitKey(20) & 0xFF == ord('d'):\n",
    "            capture.release()\n",
    "            cv.destroyAllWindows()\n",
    "            break\n",
    "            \n",
    "    else: # there is not\n",
    "        capture.release()\n",
    "        cv.destroyAllWindows()\n",
    "        break"
   ]
  },
  {
   "cell_type": "markdown",
   "id": "d7f91bb4",
   "metadata": {},
   "source": [
    "## Resize edebilir miyiz?"
   ]
  },
  {
   "cell_type": "code",
   "execution_count": 20,
   "id": "ce06e2b0",
   "metadata": {},
   "outputs": [],
   "source": [
    "def rescale_frame(frame, scale=0.75):\n",
    "    # Images, Videos and Live Video\n",
    "    width = int(frame.shape[1] * scale)\n",
    "    height = int(frame.shape[0] * scale)\n",
    "\n",
    "    return cv.resize(frame, (width, height), interpolation=cv.INTER_AREA)\n",
    "\n",
    "def change_res(width, height):\n",
    "    # Live video\n",
    "    capture.set(3, width)\n",
    "    capture.set(4, height)"
   ]
  },
  {
   "cell_type": "code",
   "execution_count": 21,
   "id": "2aa42ec5",
   "metadata": {},
   "outputs": [],
   "source": [
    "capture = cv.VideoCapture('../VisualMaterials/Videos/dog.mp4')\n",
    "\n",
    "while True:\n",
    "    is_there, frame = capture.read()\n",
    "\n",
    "    if is_there:\n",
    "        cv.imshow('Video', frame)\n",
    "        frame_resized = rescale_frame(frame, scale=.5)\n",
    "        cv.imshow('Video Resized', frame_resized)\n",
    "        \n",
    "        if cv.waitKey(20) & 0xFF==ord('d'):\n",
    "            capture.release()\n",
    "            cv.destroyAllWindows()\n",
    "            break\n",
    "    else:\n",
    "        capture.release()\n",
    "        cv.destroyAllWindows()\n",
    "        break"
   ]
  },
  {
   "cell_type": "markdown",
   "id": "922bd7e6",
   "metadata": {},
   "source": [
    "## Video"
   ]
  },
  {
   "cell_type": "code",
   "execution_count": 22,
   "id": "88fc24ca",
   "metadata": {},
   "outputs": [],
   "source": [
    "capture = cv.VideoCapture(0)\n",
    "\n",
    "while True:\n",
    "    is_there, frame = capture.read()\n",
    "\n",
    "    if is_there:\n",
    "        cv.imshow('Video', frame)\n",
    "        frame_resized = rescale_frame(frame, scale=.5)\n",
    "        cv.imshow('Webcam Resized', frame_resized)\n",
    "        \n",
    "        if cv.waitKey(20) & 0xFF==ord('d'):\n",
    "            capture.release()\n",
    "            cv.destroyAllWindows()\n",
    "            break\n",
    "    else:\n",
    "        capture.release()\n",
    "        cv.destroyAllWindows()\n",
    "        break"
   ]
  },
  {
   "cell_type": "code",
   "execution_count": null,
   "id": "b9b58e01",
   "metadata": {},
   "outputs": [],
   "source": [
    "\"a\" == \"a\""
   ]
  },
  {
   "cell_type": "code",
   "execution_count": 26,
   "id": "f2996e42",
   "metadata": {},
   "outputs": [
    {
     "data": {
      "text/plain": [
       "100"
      ]
     },
     "execution_count": 26,
     "metadata": {},
     "output_type": "execute_result"
    }
   ],
   "source": [
    "ord(\"d\")"
   ]
  },
  {
   "cell_type": "code",
   "execution_count": 24,
   "id": "5bd696b5",
   "metadata": {},
   "outputs": [
    {
     "data": {
      "text/plain": [
       "65"
      ]
     },
     "execution_count": 24,
     "metadata": {},
     "output_type": "execute_result"
    }
   ],
   "source": [
    "ord(\"A\")"
   ]
  },
  {
   "cell_type": "code",
   "execution_count": 25,
   "id": "f3c9d6b8",
   "metadata": {},
   "outputs": [
    {
     "data": {
      "text/plain": [
       "46"
      ]
     },
     "execution_count": 25,
     "metadata": {},
     "output_type": "execute_result"
    }
   ],
   "source": [
    "ord(\".\")"
   ]
  },
  {
   "cell_type": "code",
   "execution_count": null,
   "id": "6d4249ea",
   "metadata": {},
   "outputs": [],
   "source": []
  }
 ],
 "metadata": {
  "kernelspec": {
   "display_name": "Python 3 (ipykernel)",
   "language": "python",
   "name": "python3"
  },
  "language_info": {
   "codemirror_mode": {
    "name": "ipython",
    "version": 3
   },
   "file_extension": ".py",
   "mimetype": "text/x-python",
   "name": "python",
   "nbconvert_exporter": "python",
   "pygments_lexer": "ipython3",
   "version": "3.8.10"
  }
 },
 "nbformat": 4,
 "nbformat_minor": 5
}
