{
 "cells": [
  {
   "cell_type": "code",
   "execution_count": 1,
   "id": "fdefc2b5",
   "metadata": {},
   "outputs": [
    {
     "data": {
      "text/plain": [
       "'\\nTutor MSAHIN\\nYou can reach me on youtube, twitter, linkedin, medium and github with my @datasciengine username.\\n'"
      ]
     },
     "execution_count": 1,
     "metadata": {},
     "output_type": "execute_result"
    }
   ],
   "source": [
    "\"\"\"\n",
    "Tutor MSAHIN\n",
    "You can reach me on youtube, twitter, linkedin, medium and github with my @datasciengine username.\n",
    "\"\"\""
   ]
  },
  {
   "cell_type": "code",
   "execution_count": 1,
   "id": "288c1ea5",
   "metadata": {},
   "outputs": [],
   "source": [
    "import cv2 as cv\n",
    "import matplotlib.pyplot as plt\n",
    "import numpy as np\n",
    "import sys\n",
    "from utils import show_img"
   ]
  },
  {
   "cell_type": "markdown",
   "id": "68fb12b5",
   "metadata": {},
   "source": [
    "## Resimden Yüz Bulma"
   ]
  },
  {
   "cell_type": "code",
   "execution_count": 2,
   "id": "82e84894",
   "metadata": {},
   "outputs": [],
   "source": [
    "img = cv.imread('../VisualMaterials/Photos/people_1.jpg')\n",
    "show_img(img,\"People\")"
   ]
  },
  {
   "cell_type": "code",
   "execution_count": 3,
   "id": "4fbedf9b",
   "metadata": {},
   "outputs": [],
   "source": [
    "gray = cv.cvtColor(img, cv.COLOR_BGR2GRAY)\n",
    "show_img(gray,\"Gray People\")"
   ]
  },
  {
   "cell_type": "markdown",
   "id": "390768e3",
   "metadata": {},
   "source": [
    "## Haar Cascade"
   ]
  },
  {
   "cell_type": "code",
   "execution_count": 4,
   "id": "0682c9d7",
   "metadata": {},
   "outputs": [
    {
     "data": {
      "text/plain": [
       "< cv2.CascadeClassifier 0000025B7172ACF0>"
      ]
     },
     "execution_count": 4,
     "metadata": {},
     "output_type": "execute_result"
    }
   ],
   "source": [
    "haar_cascade = cv.CascadeClassifier('haarcascade_frontalface_default.xml')\n",
    "haar_cascade"
   ]
  },
  {
   "cell_type": "code",
   "execution_count": 5,
   "id": "0edd4b59",
   "metadata": {
    "scrolled": true
   },
   "outputs": [
    {
     "data": {
      "text/plain": [
       "['__class__',\n",
       " '__delattr__',\n",
       " '__dir__',\n",
       " '__doc__',\n",
       " '__eq__',\n",
       " '__format__',\n",
       " '__ge__',\n",
       " '__getattribute__',\n",
       " '__gt__',\n",
       " '__hash__',\n",
       " '__init__',\n",
       " '__init_subclass__',\n",
       " '__le__',\n",
       " '__lt__',\n",
       " '__module__',\n",
       " '__ne__',\n",
       " '__new__',\n",
       " '__reduce__',\n",
       " '__reduce_ex__',\n",
       " '__repr__',\n",
       " '__setattr__',\n",
       " '__sizeof__',\n",
       " '__str__',\n",
       " '__subclasshook__',\n",
       " 'convert',\n",
       " 'detectMultiScale',\n",
       " 'detectMultiScale2',\n",
       " 'detectMultiScale3',\n",
       " 'empty',\n",
       " 'getFeatureType',\n",
       " 'getOriginalWindowSize',\n",
       " 'isOldFormatCascade',\n",
       " 'load',\n",
       " 'read']"
      ]
     },
     "execution_count": 5,
     "metadata": {},
     "output_type": "execute_result"
    }
   ],
   "source": [
    "dir(haar_cascade)"
   ]
  },
  {
   "cell_type": "code",
   "execution_count": 6,
   "id": "090b17b1",
   "metadata": {
    "scrolled": true
   },
   "outputs": [
    {
     "data": {
      "text/plain": [
       "array([[353, 120,  25,  25],\n",
       "       [537, 116,  30,  30],\n",
       "       [194, 122,  25,  25],\n",
       "       [315, 122,  24,  24],\n",
       "       [190, 201,  26,  26],\n",
       "       [306, 186,  27,  27],\n",
       "       [432, 130,  25,  25],\n",
       "       [146, 131,  26,  26],\n",
       "       [215, 132,  26,  26],\n",
       "       [257, 133,  24,  24],\n",
       "       [370, 136,  24,  24],\n",
       "       [452, 105,  27,  27],\n",
       "       [432, 103,  25,  25],\n",
       "       [210, 109,  26,  26],\n",
       "       [ 53, 113,  26,  26],\n",
       "       [122, 114,  25,  25],\n",
       "       [409, 116,  24,  24],\n",
       "       [504, 143,  24,  24],\n",
       "       [408, 151,  25,  25]])"
      ]
     },
     "execution_count": 6,
     "metadata": {},
     "output_type": "execute_result"
    }
   ],
   "source": [
    "faces_rect = haar_cascade.detectMultiScale(gray,\n",
    "                                           scaleFactor = 1.1,\n",
    "                                           minNeighbors = 1)\n",
    "faces_rect"
   ]
  },
  {
   "cell_type": "code",
   "execution_count": 7,
   "id": "8b34b463",
   "metadata": {},
   "outputs": [
    {
     "data": {
      "text/plain": [
       "19"
      ]
     },
     "execution_count": 7,
     "metadata": {},
     "output_type": "execute_result"
    }
   ],
   "source": [
    "len(faces_rect)"
   ]
  },
  {
   "cell_type": "code",
   "execution_count": 8,
   "id": "61a43946",
   "metadata": {},
   "outputs": [
    {
     "data": {
      "text/plain": [
       "array([[353, 120,  25,  25],\n",
       "       [190, 201,  26,  26],\n",
       "       [537, 116,  30,  30],\n",
       "       [194, 122,  25,  25],\n",
       "       [306, 186,  27,  27],\n",
       "       [315, 122,  24,  24],\n",
       "       [432, 130,  25,  25],\n",
       "       [146, 131,  26,  26],\n",
       "       [215, 132,  26,  26],\n",
       "       [257, 133,  24,  24],\n",
       "       [370, 136,  24,  24],\n",
       "       [452, 105,  27,  27],\n",
       "       [432, 103,  25,  25],\n",
       "       [210, 109,  26,  26],\n",
       "       [ 53, 113,  26,  26],\n",
       "       [122, 114,  25,  25],\n",
       "       [409, 116,  24,  24],\n",
       "       [504, 143,  24,  24],\n",
       "       [408, 151,  25,  25]])"
      ]
     },
     "execution_count": 8,
     "metadata": {},
     "output_type": "execute_result"
    }
   ],
   "source": [
    "faces_coords = haar_cascade.detectMultiScale(gray,\n",
    "                                           scaleFactor = 1.1,\n",
    "                                           minNeighbors = 1)\n",
    "\n",
    "faces_coords\n",
    "      # x,  y,  w,  h"
   ]
  },
  {
   "cell_type": "code",
   "execution_count": 9,
   "id": "fc84b0fa",
   "metadata": {},
   "outputs": [],
   "source": [
    "for (x,y,w,h) in faces_rect:\n",
    "    cv.rectangle(img, # hangi imgenin üstüne dikdörtgen çizmek istiyoruz?\n",
    "                 (x,y), # x ve y başlangıç axis değerleri nedir? koordinat değerleri\n",
    "                 (x+w,y+h), # x ve y axisinin width ve height eklenmiş değerleri nedir? koordinat değerleri\n",
    "                 (0,255,0), # yeşil olsun diyoruz, hatırla B,G,R!\n",
    "                 thickness=1) # kalinlik 1 olsun.\n",
    "\n",
    "show_img(img,\"Detected Faces\")"
   ]
  },
  {
   "cell_type": "markdown",
   "id": "8382162a",
   "metadata": {},
   "source": [
    "## Function"
   ]
  },
  {
   "cell_type": "code",
   "execution_count": 10,
   "id": "8b449c28",
   "metadata": {},
   "outputs": [],
   "source": [
    "def detect_faces(img_path):\n",
    "\n",
    "    img = cv.imread(img_path)\n",
    "    gray = cv.cvtColor(img, cv.COLOR_BGR2GRAY)\n",
    "\n",
    "    haar_cascade = cv.CascadeClassifier('haarcascade_frontalface_default.xml')\n",
    "    \n",
    "    faces_coords = haar_cascade.detectMultiScale(gray,\n",
    "                                               scaleFactor = 1.1,\n",
    "                                               minNeighbors = 2)\n",
    "    \n",
    "    print(f\"{len(faces_coords)} adet yüz tespit edildi.\")\n",
    "\n",
    "    for (x,y,w,h) in faces_coords:\n",
    "        cv.rectangle(img, # hangi imgenin üstüne dikdörtgen çizmek istiyoruz?\n",
    "                     (x,y), # x ve y başlangıç axis değerleri nedir? koordinat değerleri\n",
    "                     (x+w,y+h), # x ve y axisinin width ve height eklenmiş değerleri nedir? koordinat değerleri\n",
    "                     (0,255,0), # yeşil olsun diyoruz, hatırla B,G,R!\n",
    "                     thickness=1) # kalinlik 1 olsun.\n",
    "\n",
    "    show_img(img, \"Detected Faces\")"
   ]
  },
  {
   "cell_type": "code",
   "execution_count": 11,
   "id": "3f45012b",
   "metadata": {
    "scrolled": true
   },
   "outputs": [
    {
     "name": "stdout",
     "output_type": "stream",
     "text": [
      "1 adet yüz tespit edildi.\n"
     ]
    }
   ],
   "source": [
    "detect_faces(img_path = \"../VisualMaterials/Photos/lady.jpg\")"
   ]
  },
  {
   "cell_type": "code",
   "execution_count": 12,
   "id": "53c7ad8e",
   "metadata": {
    "scrolled": true
   },
   "outputs": [
    {
     "name": "stdout",
     "output_type": "stream",
     "text": [
      "2 adet yüz tespit edildi.\n"
     ]
    }
   ],
   "source": [
    "detect_faces(img_path = \"../VisualMaterials/Photos/lady2.jpg\")"
   ]
  },
  {
   "cell_type": "code",
   "execution_count": 13,
   "id": "e5ce6f18",
   "metadata": {
    "scrolled": true
   },
   "outputs": [
    {
     "name": "stdout",
     "output_type": "stream",
     "text": [
      "7 adet yüz tespit edildi.\n"
     ]
    }
   ],
   "source": [
    "detect_faces(img_path = \"../VisualMaterials/Photos/people_2.jpg\")"
   ]
  },
  {
   "cell_type": "code",
   "execution_count": 14,
   "id": "8effdd46",
   "metadata": {
    "scrolled": true
   },
   "outputs": [
    {
     "name": "stdout",
     "output_type": "stream",
     "text": [
      "0 adet yüz tespit edildi.\n"
     ]
    }
   ],
   "source": [
    "detect_faces(img_path = \"../VisualMaterials/Photos/cows.jpg\")"
   ]
  },
  {
   "cell_type": "code",
   "execution_count": 15,
   "id": "ac99a69b",
   "metadata": {
    "scrolled": false
   },
   "outputs": [
    {
     "name": "stdout",
     "output_type": "stream",
     "text": [
      "0 adet yüz tespit edildi.\n"
     ]
    }
   ],
   "source": [
    "detect_faces(img_path = \"../VisualMaterials/Photos/cats 2.jpg\")"
   ]
  },
  {
   "cell_type": "code",
   "execution_count": 16,
   "id": "c6eddecd",
   "metadata": {
    "scrolled": false
   },
   "outputs": [
    {
     "name": "stdout",
     "output_type": "stream",
     "text": [
      "3 adet yüz tespit edildi.\n"
     ]
    }
   ],
   "source": [
    "detect_faces(img_path = \"../VisualMaterials/Photos/cats.jpg\")"
   ]
  },
  {
   "cell_type": "markdown",
   "id": "a145c1d8",
   "metadata": {},
   "source": [
    "## Resimden Göz Bulma"
   ]
  },
  {
   "cell_type": "code",
   "execution_count": 17,
   "id": "80334dff",
   "metadata": {},
   "outputs": [],
   "source": [
    "img = cv.imread('../VisualMaterials/Photos/lady.jpg')\n",
    "gray = cv.cvtColor(img, cv.COLOR_BGR2GRAY)\n",
    "show_img(gray,\"lady\")"
   ]
  },
  {
   "cell_type": "code",
   "execution_count": 18,
   "id": "67ac3a52",
   "metadata": {},
   "outputs": [
    {
     "data": {
      "text/plain": [
       "< cv2.CascadeClassifier 0000025B7173D590>"
      ]
     },
     "execution_count": 18,
     "metadata": {},
     "output_type": "execute_result"
    }
   ],
   "source": [
    "eye_cascade = cv.CascadeClassifier('haarcascade_eye.xml')\n",
    "eye_cascade"
   ]
  },
  {
   "cell_type": "code",
   "execution_count": 19,
   "id": "10df663f",
   "metadata": {},
   "outputs": [],
   "source": [
    "eyes_coords = eye_cascade.detectMultiScale(gray)"
   ]
  },
  {
   "cell_type": "code",
   "execution_count": 20,
   "id": "243c02a8",
   "metadata": {},
   "outputs": [
    {
     "name": "stdout",
     "output_type": "stream",
     "text": [
      "2 adet göz tespit edildi.\n"
     ]
    }
   ],
   "source": [
    "print(f\"{len(eyes_coords)} adet göz tespit edildi.\")\n",
    "\n",
    "for (x, y, w, h) in eyes_coords:\n",
    "    cv.rectangle(img, # hangi imgenin üstüne dikdörtgen çizmek istiyoruz?\n",
    "                 (x,y), # x ve y başlangıç axis değerleri nedir? koordinat değerleri\n",
    "                 (x+w,y+h), # x ve y axisinin width ve height eklenmiş değerleri nedir? koordinat değerleri\n",
    "                 (0,0,255), # yeşil olsun diyoruz, hatırla B,G,R!\n",
    "                 thickness=2) # kalinlik 1 olsun.\n",
    "\n",
    "show_img(img, \"Detected Faces\")"
   ]
  },
  {
   "cell_type": "markdown",
   "id": "7378d289",
   "metadata": {},
   "source": [
    "## Yüzün İçinde Göz Bulma"
   ]
  },
  {
   "cell_type": "code",
   "execution_count": 21,
   "id": "87eb0064",
   "metadata": {},
   "outputs": [],
   "source": [
    "img = cv.imread('../VisualMaterials/Photos/lady.jpg')\n",
    "gray = cv.cvtColor(img, cv.COLOR_BGR2GRAY)"
   ]
  },
  {
   "cell_type": "code",
   "execution_count": 22,
   "id": "90778214",
   "metadata": {},
   "outputs": [],
   "source": [
    "face_cascade = cv.CascadeClassifier(\"haarcascade_frontalface_default.xml\")\n",
    "eye_cascade = cv.CascadeClassifier(\"haarcascade_eye.xml\")"
   ]
  },
  {
   "cell_type": "code",
   "execution_count": 23,
   "id": "800ad455",
   "metadata": {},
   "outputs": [],
   "source": [
    "def detect_faces_eyes(img):\n",
    "    \n",
    "    faces_coords = face_cascade.detectMultiScale(img, scaleFactor = 1.1, minNeighbors = 2)\n",
    "\n",
    "    for (f_x, f_y, f_w, f_h) in faces_coords:\n",
    "\n",
    "        face_roi = img[f_y: f_y+f_h, f_x:f_x+f_w] # sadece yüzün olduğu alanı kırp!\n",
    "        eye_coords = eye_cascade.detectMultiScale(face_roi)\n",
    "\n",
    "        for (e_x, e_y, e_w, e_h) in eye_coords:\n",
    "            # göz koordinatlarını çiz!\n",
    "            cv.rectangle(face_roi, (e_x, e_y), (e_x + e_w, e_y + e_h), (0,0,255), thickness=2)\n",
    "\n",
    "        # yüz koordinatlarını çiz!\n",
    "        cv.rectangle(img, (f_x, f_y), (f_x + f_w, f_y + f_h), (0,255,0), thickness=2)\n",
    "    return img"
   ]
  },
  {
   "cell_type": "code",
   "execution_count": 24,
   "id": "97e1b482",
   "metadata": {},
   "outputs": [],
   "source": [
    "detected_img = detect_faces_eyes(img)\n",
    "show_img(detected_img, \"Result\")"
   ]
  },
  {
   "cell_type": "code",
   "execution_count": 25,
   "id": "f31dfa2d",
   "metadata": {},
   "outputs": [],
   "source": [
    "img = cv.imread('../VisualMaterials/Photos/lady2.jpg')\n",
    "detected_img = detect_faces_eyes(img)\n",
    "show_img(detected_img, \"Result\")"
   ]
  },
  {
   "cell_type": "code",
   "execution_count": 26,
   "id": "06316972",
   "metadata": {},
   "outputs": [],
   "source": [
    "img = cv.imread('../VisualMaterials/Photos/cows.jpg')\n",
    "detected_img = detect_faces_eyes(img)\n",
    "show_img(detected_img, \"Result\")"
   ]
  },
  {
   "cell_type": "code",
   "execution_count": 27,
   "id": "02a62dfd",
   "metadata": {},
   "outputs": [],
   "source": [
    "img = cv.imread('../VisualMaterials/Photos/my_friends.jpg')\n",
    "detected_img = detect_faces_eyes(img)\n",
    "show_img(detected_img, \"Result\")"
   ]
  },
  {
   "cell_type": "markdown",
   "id": "28185912",
   "metadata": {},
   "source": [
    "## Video'dan hem yüz hem de göz bulma"
   ]
  },
  {
   "cell_type": "code",
   "execution_count": 28,
   "id": "d12db110",
   "metadata": {},
   "outputs": [],
   "source": [
    "def detect_faces_eyes(img):\n",
    "    \n",
    "    # mevcut frame için yüz koordinatlarının tamamını bul\n",
    "    faces_coords = face_cascade.detectMultiScale(img,\n",
    "                                                 scaleFactor = 1.8,\n",
    "                                                 minNeighbors = 1,\n",
    "                                                 minSize=(120,120), maxSize=(500,500))\n",
    "    \n",
    "    # tüm yüz koordinat setleri için tek tek dolaş\n",
    "    for (f_x, f_y, f_w, f_h) in faces_coords[:3]:\n",
    "        \n",
    "        # her yüz koordinat seti için yüzün olduğu kısmı kırp\n",
    "        face_roi = img[f_y: f_y+f_h, f_x:f_x+f_w]\n",
    "        \n",
    "        # sadece yüz içerisinde gözleri ara.\n",
    "        eye_coords = eye_cascade.detectMultiScale(face_roi)\n",
    "        \n",
    "        # her göz koordinat seti için gözün olduğu kısımları çizdirmek için gez.\n",
    "        for (e_x, e_y, e_w, e_h) in eye_coords[:2]:\n",
    "            # göz dikdörtgenlerini çiz!\n",
    "            cv.rectangle(face_roi, (e_x, e_y), (e_x + e_w, e_y + e_h), (0,0,255), thickness=2)\n",
    "\n",
    "        # tüm yüz dikdörtgenlerini çiz!\n",
    "        cv.rectangle(img, (f_x, f_y), (f_x + f_w, f_y + f_h), (0,255,0), thickness=2)\n",
    "\n",
    "    return img"
   ]
  },
  {
   "cell_type": "code",
   "execution_count": 29,
   "id": "d39d3d65",
   "metadata": {},
   "outputs": [],
   "source": [
    "capture = cv.VideoCapture('../VisualMaterials/Videos/Untitled Project.mp4')\n",
    "\n",
    "while True:\n",
    "    _, img = capture.read()\n",
    "    img = detect_faces_eyes(img)\n",
    "    cv.imshow('Video', img)\n",
    "\n",
    "    if cv.waitKey(20) & 0xFF==ord('d'):\n",
    "        break\n",
    "\n",
    "capture.release()\n",
    "cv.destroyAllWindows()"
   ]
  },
  {
   "cell_type": "markdown",
   "id": "081bcc98",
   "metadata": {},
   "source": [
    "## WebCam'den hem yüz hem de göz bulma"
   ]
  },
  {
   "cell_type": "code",
   "execution_count": 30,
   "id": "a916d7fd",
   "metadata": {},
   "outputs": [],
   "source": [
    "# Reading Videos\n",
    "\n",
    "capture = cv.VideoCapture(1)\n",
    "\n",
    "while True:\n",
    "    _, img = capture.read()\n",
    "    img = detect_faces_eyes(img)\n",
    "    cv.imshow('Video', img)\n",
    "\n",
    "    if cv.waitKey(20) & 0xFF==ord('d'):\n",
    "        break\n",
    "\n",
    "capture.release()\n",
    "cv.destroyAllWindows()"
   ]
  },
  {
   "cell_type": "code",
   "execution_count": null,
   "id": "aea1cc3d",
   "metadata": {},
   "outputs": [],
   "source": []
  }
 ],
 "metadata": {
  "kernelspec": {
   "display_name": "Python 3 (ipykernel)",
   "language": "python",
   "name": "python3"
  },
  "language_info": {
   "codemirror_mode": {
    "name": "ipython",
    "version": 3
   },
   "file_extension": ".py",
   "mimetype": "text/x-python",
   "name": "python",
   "nbconvert_exporter": "python",
   "pygments_lexer": "ipython3",
   "version": "3.8.10"
  }
 },
 "nbformat": 4,
 "nbformat_minor": 5
}
