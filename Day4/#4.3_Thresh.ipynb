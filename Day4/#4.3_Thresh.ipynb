{
 "cells": [
  {
   "cell_type": "code",
   "execution_count": 1,
   "id": "ae246a83",
   "metadata": {},
   "outputs": [],
   "source": [
    "import cv2 as cv\n",
    "import numpy as np\n",
    "from utils import show_img"
   ]
  },
  {
   "cell_type": "code",
   "execution_count": 2,
   "id": "f1979c44",
   "metadata": {},
   "outputs": [],
   "source": [
    "img = cv.imread('../VisualMaterials/Photos/cats.jpg')\n",
    "show_img(img, \"Cats\")"
   ]
  },
  {
   "cell_type": "code",
   "execution_count": 3,
   "id": "62e14f27",
   "metadata": {},
   "outputs": [],
   "source": [
    "gs_img = cv.cvtColor(img, cv.COLOR_BGR2GRAY)\n",
    "show_img(gs_img, \"gs_cat\")"
   ]
  },
  {
   "cell_type": "markdown",
   "id": "1398849d",
   "metadata": {},
   "source": [
    "### Simple Thresholding"
   ]
  },
  {
   "cell_type": "markdown",
   "id": "d335b4bd",
   "metadata": {},
   "source": [
    "Her piksel için aynı eşik değeri uygulanır. Piksel değeri eşikten küçükse 0'a ayarlanır, aksi takdirde maksimum değere ayarlanır. Eşiği uygulamak için cv.threshold işlevi kullanılır. İlk bağımsız değişken, gri tonlamalı bir görüntü olması gereken kaynak görüntüdür. İkinci argüman, piksel değerlerini sınıflandırmak için kullanılan eşik değeridir. Üçüncü argüman, eşiği aşan piksel değerlerine atanan maksimum değerdir. OpenCV, işlevin dördüncü parametresi tarafından verilen farklı eşik türleri sağlar. Yukarıda açıklanan temel eşikleme, cv.THRESH_BINARY türü kullanılarak yapılır."
   ]
  },
  {
   "cell_type": "code",
   "execution_count": 10,
   "id": "b02d5a94",
   "metadata": {},
   "outputs": [],
   "source": [
    "threshold, thresh = cv.threshold(gs_img, 150, 255, cv.THRESH_BINARY)\n",
    "show_img(thresh, \"Simple Thresholded\")"
   ]
  },
  {
   "cell_type": "markdown",
   "id": "48d6f03b",
   "metadata": {},
   "source": [
    "### Simple Thresholding Inverse"
   ]
  },
  {
   "cell_type": "code",
   "execution_count": 11,
   "id": "e2a574c6",
   "metadata": {},
   "outputs": [],
   "source": [
    "threshold, thresh_inv = cv.threshold(gs_img, 150, 255, cv.THRESH_BINARY_INV)\n",
    "show_img(thresh_inv,'Simple Thresholded Inverse')"
   ]
  },
  {
   "cell_type": "code",
   "execution_count": 8,
   "id": "baaa285d",
   "metadata": {},
   "outputs": [
    {
     "data": {
      "text/plain": [
       "150.0"
      ]
     },
     "execution_count": 8,
     "metadata": {},
     "output_type": "execute_result"
    }
   ],
   "source": [
    "threshold"
   ]
  },
  {
   "cell_type": "code",
   "execution_count": 12,
   "id": "525148d4",
   "metadata": {},
   "outputs": [],
   "source": [
    "stacked_img = np.hstack((thresh, thresh_inv))\n",
    "show_img(stacked_img)"
   ]
  },
  {
   "cell_type": "markdown",
   "id": "7ab8fbe4",
   "metadata": {},
   "source": [
    "### Adaptive Thresholding"
   ]
  },
  {
   "cell_type": "markdown",
   "id": "d9e09cc2",
   "metadata": {},
   "source": [
    "Önceki bölümde eşik olarak bir global değer kullandık. Ancak bu her durumda iyi olmayabilir, örn. bir görüntünün farklı alanlarda farklı aydınlatma koşulları varsa. Bu durumda, adaptif eşikleme yardımcı olabilir. Burada algoritma, etrafındaki küçük bir bölgeye dayalı olarak bir pikselin eşiğini belirler. Böylece, aynı görüntünün farklı bölgeleri için farklı eşikler elde ederiz ve bu da değişen aydınlatmaya sahip görüntüler için daha iyi sonuçlar verir.\n",
    "\n",
    "cv.adaptiveThreshold yöntemi üç giriş parametresi alır:\n",
    "\n",
    "cv.ADAPTIVE_THRESH_GAUSSIAN_C: Eşik değeri, komşuluk değerleri eksi C sabitinin gauss ağırlıklı toplamıdır.\n",
    "\n",
    "BlockSize, komşuluk alanının boyutunu belirler ve C, komşuluk piksellerinin ortalamasından veya ağırlıklı toplamından çıkarılan bir sabittir."
   ]
  },
  {
   "cell_type": "code",
   "execution_count": 19,
   "id": "dcda6ac3",
   "metadata": {},
   "outputs": [],
   "source": [
    "adaptive_thresh = cv.adaptiveThreshold(gs_img, # src \n",
    "                                       255,  # max val\n",
    "                                       cv.ADAPTIVE_THRESH_GAUSSIAN_C, # adaptiveMethod\n",
    "                                       cv.THRESH_BINARY_INV, # threshold type\n",
    "                                       51, # blocksize\n",
    "                                       9) # C\n",
    "\n",
    "show_img(adaptive_thresh, 'Adaptive Thresholding')"
   ]
  },
  {
   "cell_type": "code",
   "execution_count": null,
   "id": "f9cba451",
   "metadata": {},
   "outputs": [],
   "source": []
  }
 ],
 "metadata": {
  "kernelspec": {
   "display_name": "Python 3 (ipykernel)",
   "language": "python",
   "name": "python3"
  },
  "language_info": {
   "codemirror_mode": {
    "name": "ipython",
    "version": 3
   },
   "file_extension": ".py",
   "mimetype": "text/x-python",
   "name": "python",
   "nbconvert_exporter": "python",
   "pygments_lexer": "ipython3",
   "version": "3.8.10"
  }
 },
 "nbformat": 4,
 "nbformat_minor": 5
}
