{
 "cells": [
  {
   "cell_type": "code",
   "execution_count": null,
   "id": "68d11fb6",
   "metadata": {},
   "outputs": [],
   "source": [
    "\"\"\"\n",
    "Tutor MSAHIN\n",
    "You can reach me on youtube, twitter, linkedin, medium and github with my @datasciengine username.\n",
    "\"\"\""
   ]
  },
  {
   "cell_type": "code",
   "execution_count": 1,
   "id": "7763c136",
   "metadata": {},
   "outputs": [],
   "source": [
    "import cv2 as cv\n",
    "import numpy as np\n",
    "from utils import show_img"
   ]
  },
  {
   "cell_type": "code",
   "execution_count": 4,
   "id": "11a63ac5",
   "metadata": {},
   "outputs": [],
   "source": [
    "img = cv.imread('../VisualMaterials/Photos/cats 2.jpg')\n",
    "show_img(img, 'Cats')"
   ]
  },
  {
   "cell_type": "code",
   "execution_count": 3,
   "id": "4309b6a2",
   "metadata": {},
   "outputs": [
    {
     "name": "stdout",
     "output_type": "stream",
     "text": [
      "img shape :  (427, 640, 3)\n"
     ]
    }
   ],
   "source": [
    "print(\"img shape : \", img.shape)"
   ]
  },
  {
   "cell_type": "code",
   "execution_count": 5,
   "id": "dbf3ec7a",
   "metadata": {},
   "outputs": [],
   "source": [
    "blank = np.zeros(img.shape[:2], dtype='uint8')\n",
    "show_img(blank, 'Blank Image')"
   ]
  },
  {
   "cell_type": "code",
   "execution_count": 6,
   "id": "76b160d3",
   "metadata": {},
   "outputs": [],
   "source": [
    "circle = cv.circle(blank.copy(), # arkaplan\n",
    "                   (img.shape[1]//2 + 45,  # dikeyde ortadan 45 sağa,\n",
    "                    img.shape[0]//2),      # yatayda tam ortası\n",
    "                   80, # radius\n",
    "                   255, # color\n",
    "                   -1) # thickness\n",
    "show_img(circle, \"Circle\")"
   ]
  },
  {
   "cell_type": "code",
   "execution_count": 7,
   "id": "478b6e88",
   "metadata": {},
   "outputs": [],
   "source": [
    "masked = cv.bitwise_and(img, img, mask=circle) \n",
    "\n",
    "# \"veya\" iki şartı toplamak gibi.\n",
    "# \"ve\" iki şartın kesişimi gibi.\n",
    "\n",
    "show_img(masked, 'Weird Shaped Masked Image')"
   ]
  },
  {
   "cell_type": "code",
   "execution_count": 8,
   "id": "53bac4f0",
   "metadata": {},
   "outputs": [],
   "source": [
    "rectangle = cv.rectangle(blank.copy(), \n",
    "                         (30,30), # originden olan dikey ve yatay boşluk, pt1, pt2\n",
    "                         (370,370), # size w,h\n",
    "                         200, # color\n",
    "                         -1) # thickness\n",
    "show_img(rectangle, \"Rectangle\")"
   ]
  },
  {
   "cell_type": "code",
   "execution_count": 9,
   "id": "9fc4044a",
   "metadata": {},
   "outputs": [],
   "source": [
    "weird_shape = cv.bitwise_and(circle, rectangle)\n",
    "show_img(weird_shape, 'Weird Shape')"
   ]
  },
  {
   "cell_type": "code",
   "execution_count": 10,
   "id": "28f84ffb",
   "metadata": {},
   "outputs": [],
   "source": [
    "masked = cv.bitwise_and(img, img, mask=weird_shape)\n",
    "show_img(masked, 'Weird Shaped Masked Image')"
   ]
  },
  {
   "cell_type": "code",
   "execution_count": null,
   "id": "ed8b9fb4",
   "metadata": {},
   "outputs": [],
   "source": []
  }
 ],
 "metadata": {
  "kernelspec": {
   "display_name": "Python 3 (ipykernel)",
   "language": "python",
   "name": "python3"
  },
  "language_info": {
   "codemirror_mode": {
    "name": "ipython",
    "version": 3
   },
   "file_extension": ".py",
   "mimetype": "text/x-python",
   "name": "python",
   "nbconvert_exporter": "python",
   "pygments_lexer": "ipython3",
   "version": "3.8.10"
  }
 },
 "nbformat": 4,
 "nbformat_minor": 5
}
