{
 "cells": [
  {
   "cell_type": "code",
   "execution_count": 1,
   "id": "6bc14d90",
   "metadata": {},
   "outputs": [],
   "source": [
    "import cv2 as cv\n",
    "import numpy as np\n",
    "from utils import show_img"
   ]
  },
  {
   "cell_type": "code",
   "execution_count": 2,
   "id": "ceb58f35",
   "metadata": {},
   "outputs": [],
   "source": [
    "img = cv.imread('../VisualMaterials/Photos/park.jpg')\n",
    "show_img(img, 'Park')"
   ]
  },
  {
   "cell_type": "code",
   "execution_count": 3,
   "id": "60736812",
   "metadata": {},
   "outputs": [],
   "source": [
    "# Translation\n",
    "def translate(img, x, y):\n",
    "    trans_mat = np.float32([[1,0,x],[0,1,y]])\n",
    "    dimensions = (img.shape[1], img.shape[0])\n",
    "    return cv.warpAffine(img, trans_mat, dimensions)\n",
    "\n",
    "# -x --> Left\n",
    "# -y --> Up\n",
    "# x --> Right\n",
    "# y --> Down"
   ]
  },
  {
   "cell_type": "code",
   "execution_count": 6,
   "id": "d3c2e0dd",
   "metadata": {},
   "outputs": [],
   "source": [
    "translated = translate(img=img,\n",
    "                       x = -100,\n",
    "                       y = 0)\n",
    "\n",
    "show_img(translated, 'Translated')"
   ]
  },
  {
   "cell_type": "code",
   "execution_count": 7,
   "id": "75e8606f",
   "metadata": {},
   "outputs": [],
   "source": [
    "# Rotation\n",
    "def rotate(img, angle, rotPoint=None):\n",
    "    (height,width) = img.shape[:2]\n",
    "\n",
    "    if rotPoint is None:\n",
    "        rotPoint = (width//2, height//2)\n",
    "    \n",
    "    rotMat = cv.getRotationMatrix2D(rotPoint, angle, 1.0)\n",
    "    dimensions = (width, height)\n",
    "\n",
    "    return cv.warpAffine(img, rotMat, dimensions)"
   ]
  },
  {
   "cell_type": "code",
   "execution_count": 8,
   "id": "ba2ede18",
   "metadata": {},
   "outputs": [],
   "source": [
    "rotated = rotate(img, -45)\n",
    "show_img(rotated, 'Rotated')"
   ]
  },
  {
   "cell_type": "code",
   "execution_count": 9,
   "id": "a55997e9",
   "metadata": {},
   "outputs": [],
   "source": [
    "rotated_rotated = rotate(img, -90)\n",
    "show_img(rotated_rotated, 'Rotated Rotated')"
   ]
  },
  {
   "cell_type": "code",
   "execution_count": 10,
   "id": "c82996ca",
   "metadata": {},
   "outputs": [],
   "source": [
    "# Resizing\n",
    "resized = cv.resize(img, (500,500), interpolation=cv.INTER_CUBIC)\n",
    "show_img(resized, 'Resized')"
   ]
  },
  {
   "cell_type": "code",
   "execution_count": 12,
   "id": "00a3429e",
   "metadata": {},
   "outputs": [],
   "source": [
    "# Flipping\n",
    "flip = cv.flip(img, 0)\n",
    "show_img(flip, 'Flip')"
   ]
  },
  {
   "cell_type": "code",
   "execution_count": 15,
   "id": "307339c8",
   "metadata": {},
   "outputs": [],
   "source": [
    "# Cropping\n",
    "cropped = img[100:400, 150:400] # matrix slicing \n",
    "show_img(cropped, 'Cropped')"
   ]
  },
  {
   "cell_type": "code",
   "execution_count": null,
   "id": "69888d46",
   "metadata": {},
   "outputs": [],
   "source": [
    "df.iloc[0:5, 5:8]"
   ]
  }
 ],
 "metadata": {
  "kernelspec": {
   "display_name": "Python 3 (ipykernel)",
   "language": "python",
   "name": "python3"
  },
  "language_info": {
   "codemirror_mode": {
    "name": "ipython",
    "version": 3
   },
   "file_extension": ".py",
   "mimetype": "text/x-python",
   "name": "python",
   "nbconvert_exporter": "python",
   "pygments_lexer": "ipython3",
   "version": "3.8.10"
  }
 },
 "nbformat": 4,
 "nbformat_minor": 5
}
