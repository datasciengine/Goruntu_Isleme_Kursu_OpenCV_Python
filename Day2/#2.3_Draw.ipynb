{
 "cells": [
  {
   "cell_type": "code",
   "execution_count": null,
   "id": "30b56648",
   "metadata": {},
   "outputs": [],
   "source": [
    "\"\"\"\n",
    "Tutor MSAHIN\n",
    "You can reach me on youtube, twitter, linkedin, medium and github with my @datasciengine username.\n",
    "\"\"\""
   ]
  },
  {
   "cell_type": "code",
   "execution_count": 1,
   "id": "1620c0be",
   "metadata": {},
   "outputs": [],
   "source": [
    "import cv2 as cv\n",
    "import numpy as np\n",
    "from utils import show_img"
   ]
  },
  {
   "cell_type": "code",
   "execution_count": 11,
   "id": "1756c8a4",
   "metadata": {},
   "outputs": [],
   "source": [
    "blank = np.zeros((1000, 1000, 3), dtype='uint8')\n",
    "show_img(blank)"
   ]
  },
  {
   "cell_type": "markdown",
   "id": "153f8a31",
   "metadata": {},
   "source": [
    "## 1. Paint the image a certain colour"
   ]
  },
  {
   "cell_type": "code",
   "execution_count": 3,
   "id": "36e3b30e",
   "metadata": {},
   "outputs": [
    {
     "data": {
      "text/plain": [
       "array([[0, 0, 0],\n",
       "       [0, 0, 0],\n",
       "       [0, 0, 0],\n",
       "       ...,\n",
       "       [0, 0, 0],\n",
       "       [0, 0, 0],\n",
       "       [0, 0, 0]], dtype=uint8)"
      ]
     },
     "execution_count": 3,
     "metadata": {},
     "output_type": "execute_result"
    }
   ],
   "source": [
    "blank[0]"
   ]
  },
  {
   "cell_type": "code",
   "execution_count": 6,
   "id": "bd0f85cf",
   "metadata": {},
   "outputs": [],
   "source": [
    "blank[10:20, 10:20] = 255,255,255"
   ]
  },
  {
   "cell_type": "code",
   "execution_count": 7,
   "id": "49463cdf",
   "metadata": {},
   "outputs": [],
   "source": [
    "show_img(blank)"
   ]
  },
  {
   "cell_type": "code",
   "execution_count": 8,
   "id": "fd94f6d6",
   "metadata": {},
   "outputs": [],
   "source": [
    "blank[50:70, 200:500] = 0, 0, 255\n",
    "show_img(blank, \"Red Box\")"
   ]
  },
  {
   "cell_type": "markdown",
   "id": "1ef08bc9",
   "metadata": {},
   "source": [
    "## 2. Draw a Rectangle"
   ]
  },
  {
   "cell_type": "code",
   "execution_count": 17,
   "id": "af13c6b2",
   "metadata": {},
   "outputs": [
    {
     "data": {
      "text/plain": [
       "125"
      ]
     },
     "execution_count": 17,
     "metadata": {},
     "output_type": "execute_result"
    }
   ],
   "source": [
    "blank.shape[1] // 8"
   ]
  },
  {
   "cell_type": "code",
   "execution_count": 18,
   "id": "e62a51fe",
   "metadata": {},
   "outputs": [],
   "source": [
    "cv.rectangle(blank,\n",
    "             (20,50),\n",
    "             (blank.shape[1]//8, blank.shape[0]//8),\n",
    "             (0,255,0),\n",
    "             thickness=-1)\n",
    "\n",
    "show_img(blank, \"Rectangle\")"
   ]
  },
  {
   "cell_type": "markdown",
   "id": "076219c7",
   "metadata": {},
   "source": [
    "## 3. Draw A circle"
   ]
  },
  {
   "cell_type": "code",
   "execution_count": 19,
   "id": "1cd0b6b6",
   "metadata": {},
   "outputs": [],
   "source": [
    "cv.circle(blank, (blank.shape[1]//2, blank.shape[0]//2), 200, (0,0,255), thickness=-1)\n",
    "show_img(blank, \"Circle\")"
   ]
  },
  {
   "cell_type": "markdown",
   "id": "9e57fb68",
   "metadata": {},
   "source": [
    "## 4. Draw a line"
   ]
  },
  {
   "cell_type": "code",
   "execution_count": 21,
   "id": "ada5d12b",
   "metadata": {},
   "outputs": [],
   "source": [
    "cv.line(blank, (100,250), (300,400), (255,255,255), thickness=10)\n",
    "show_img(blank, \"Line\")"
   ]
  },
  {
   "cell_type": "markdown",
   "id": "7d8864ea",
   "metadata": {},
   "source": [
    "## 5. Write text"
   ]
  },
  {
   "cell_type": "code",
   "execution_count": 23,
   "id": "92e6e789",
   "metadata": {},
   "outputs": [],
   "source": [
    "cv.putText(blank, 'Hello, this is OpenCV!', (0,225), cv.FONT_HERSHEY_TRIPLEX, 5.0, (0,255,0), 2)\n",
    "show_img(blank, \"Text\")"
   ]
  },
  {
   "cell_type": "code",
   "execution_count": null,
   "id": "91f1a0b8",
   "metadata": {},
   "outputs": [],
   "source": []
  }
 ],
 "metadata": {
  "kernelspec": {
   "display_name": "Python 3 (ipykernel)",
   "language": "python",
   "name": "python3"
  },
  "language_info": {
   "codemirror_mode": {
    "name": "ipython",
    "version": 3
   },
   "file_extension": ".py",
   "mimetype": "text/x-python",
   "name": "python",
   "nbconvert_exporter": "python",
   "pygments_lexer": "ipython3",
   "version": "3.8.10"
  }
 },
 "nbformat": 4,
 "nbformat_minor": 5
}
